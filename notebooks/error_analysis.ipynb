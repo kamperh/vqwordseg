{
 "cells": [
  {
   "cell_type": "markdown",
   "metadata": {},
   "source": [
    "# Word Segmentation Error Analysis"
   ]
  },
  {
   "cell_type": "markdown",
   "metadata": {},
   "source": [
    "Copyright (c) 2021 Herman Kamper, MIT License"
   ]
  },
  {
   "cell_type": "markdown",
   "metadata": {},
   "source": [
    "## Preliminaries"
   ]
  },
  {
   "cell_type": "code",
   "execution_count": 1,
   "metadata": {},
   "outputs": [],
   "source": [
    "%matplotlib inline\n",
    "from collections import Counter\n",
    "from pathlib import Path\n",
    "from tqdm import tqdm\n",
    "import numpy as np\n",
    "import pylab as plt\n",
    "import sys\n",
    "\n",
    "sys.path.append(\"..\")\n",
    "\n",
    "from eval_segmentation import (\n",
    "    boundaries_to_intervals, intervals_to_boundaries, score_boundaries,\n",
    "    score_word_token_boundaries, get_os, get_rvalue, get_intervals_from_dir,\n",
    "    str_to_id_labels    \n",
    "    )\n",
    "from plotting import setup_plot"
   ]
  },
  {
   "cell_type": "markdown",
   "metadata": {},
   "source": [
    "## DPDP data"
   ]
  },
  {
   "cell_type": "code",
   "execution_count": 2,
   "metadata": {},
   "outputs": [],
   "source": [
    "# Dataset and model\n",
    "dataset = \"buckeye\"\n",
    "split = \"test\"\n",
    "model = \"cpc_big\"\n",
    "seg_tag = \"wordseg_dpdp_aernn_dp_penalized\"\n",
    "# model = \"eskmeans\"\n",
    "# seg_tag = \"eskmeans\"\n",
    "\n",
    "# Directories\n",
    "seg_dir = Path(\"../exp\")/model/dataset/split/seg_tag/\"intervals\"\n",
    "# phone_ref_dir = Path(\"../data\")/dataset/\"phone_intervals\"\n",
    "word_ref_dir = Path(\"../data\")/dataset/\"word_intervals\""
   ]
  },
  {
   "cell_type": "code",
   "execution_count": 3,
   "metadata": {},
   "outputs": [
    {
     "name": "stderr",
     "output_type": "stream",
     "text": [
      "  0%|          | 0/21498 [00:00<?, ?it/s]"
     ]
    },
    {
     "name": "stdout",
     "output_type": "stream",
     "text": [
      "Reading: ../exp/cpc_big/buckeye/test/wordseg_dpdp_aernn_dp_penalized/intervals\n"
     ]
    },
    {
     "name": "stderr",
     "output_type": "stream",
     "text": [
      "100%|██████████| 21498/21498 [01:59<00:00, 179.17it/s]\n",
      "  0%|          | 0/21498 [00:00<?, ?it/s]"
     ]
    },
    {
     "name": "stdout",
     "output_type": "stream",
     "text": [
      "Reading: ../data/buckeye/word_intervals\n"
     ]
    },
    {
     "name": "stderr",
     "output_type": "stream",
     "text": [
      "100%|██████████| 21498/21498 [04:04<00:00, 87.82it/s] \n"
     ]
    }
   ],
   "source": [
    "# Read segmentation\n",
    "segmentation_interval_dict = {}\n",
    "print(\"Reading: {}\".format(seg_dir))\n",
    "assert seg_dir.is_dir(), \"missing directory: {}\".format(seg_dir)\n",
    "segmentation_interval_dict = get_intervals_from_dir(seg_dir)\n",
    "utterances = segmentation_interval_dict.keys()\n",
    "\n",
    "# Read word reference\n",
    "if word_ref_dir.is_dir():\n",
    "    print(\"Reading: {}\".format(word_ref_dir))\n",
    "    word_ref_interval_dict = get_intervals_from_dir(\n",
    "        word_ref_dir, utterances\n",
    "        )"
   ]
  },
  {
   "cell_type": "code",
   "execution_count": 4,
   "metadata": {},
   "outputs": [
    {
     "name": "stderr",
     "output_type": "stream",
     "text": [
      "100%|██████████| 21498/21498 [00:00<00:00, 321721.29it/s]\n",
      "100%|██████████| 21498/21498 [00:00<00:00, 327844.89it/s]\n"
     ]
    },
    {
     "name": "stdout",
     "output_type": "stream",
     "text": [
      "Converting intervals to boundaries:\n"
     ]
    }
   ],
   "source": [
    "# Convert intervals to boundaries\n",
    "print(\"Converting intervals to boundaries:\")\n",
    "segmentation_boundaries_dict = {}\n",
    "for utt_key in tqdm(segmentation_interval_dict):\n",
    "    segmentation_boundaries_dict[utt_key] = intervals_to_boundaries(\n",
    "        segmentation_interval_dict[utt_key]\n",
    "        )\n",
    "if word_ref_dir.is_dir():\n",
    "    word_ref_boundaries_dict = {}\n",
    "    for utt_key in tqdm(word_ref_interval_dict):\n",
    "        word_ref_boundaries_dict[utt_key] = intervals_to_boundaries(\n",
    "            word_ref_interval_dict[utt_key]\n",
    "            )\n",
    "\n",
    "# Map e.g. \"23_12_\" to a unique integer ID e.g. 10\n",
    "# if (\"word\" in seg_tag and \"_\" in\n",
    "#         list(segmentation_interval_dict.values())[0][0][-1]):\n",
    "segmentation_interval_dict, str_to_id, id_to_str = str_to_id_labels(\n",
    "    segmentation_interval_dict\n",
    "    )"
   ]
  },
  {
   "cell_type": "markdown",
   "metadata": {},
   "source": [
    "## DPDP Evaluation"
   ]
  },
  {
   "cell_type": "code",
   "execution_count": 5,
   "metadata": {},
   "outputs": [
    {
     "name": "stdout",
     "output_type": "stream",
     "text": [
      "---------------------------------------------------------------------------\n",
      "Word boundaries:\n",
      "Precision: 35.30%\n",
      "Recall: 37.66%\n",
      "F-score: 36.44%\n",
      "OS: 6.68%\n",
      "R-value: 44.25%\n",
      "---------------------------------------------------------------------------\n",
      "Word token boundaries:\n",
      "Precision: 24.40%\n",
      "Recall: 25.59%\n",
      "F-score: 24.98%\n",
      "OS: 4.88%\n",
      "---------------------------------------------------------------------------\n"
     ]
    }
   ],
   "source": [
    "word_tolerance = 2  # to-do\n",
    "\n",
    "# Evaluate word boundaries\n",
    "reference_list = []\n",
    "segmentation_list = []\n",
    "word_type_list = []\n",
    "for utterance in sorted(word_ref_boundaries_dict):\n",
    "    reference_list.append(word_ref_boundaries_dict[utterance])\n",
    "    segmentation_list.append(segmentation_boundaries_dict[utterance])\n",
    "    word_type_list.append([i[2] for i in word_ref_interval_dict[utterance]])\n",
    "p, r, f = score_boundaries(\n",
    "    reference_list, segmentation_list, tolerance=word_tolerance\n",
    "    )\n",
    "\n",
    "print(\"-\"*(79 - 4))\n",
    "print(\"Word boundaries:\")\n",
    "print(\"Precision: {:.2f}%\".format(p*100))\n",
    "print(\"Recall: {:.2f}%\".format(r*100))\n",
    "print(\"F-score: {:.2f}%\".format(f*100))\n",
    "print(\"OS: {:.2f}%\".format(get_os(p, r)*100))\n",
    "print(\"R-value: {:.2f}%\".format(get_rvalue(p, r)*100))\n",
    "print(\"-\"*(79 - 4))\n",
    "\n",
    "# Word token boundaries\n",
    "p, r, f = score_word_token_boundaries(\n",
    "    reference_list, segmentation_list, tolerance=word_tolerance\n",
    "    )\n",
    "print(\"Word token boundaries:\")\n",
    "print(\"Precision: {:.2f}%\".format(p*100))\n",
    "print(\"Recall: {:.2f}%\".format(r*100))\n",
    "print(\"F-score: {:.2f}%\".format(f*100))\n",
    "print(\"OS: {:.2f}%\".format(get_os(p, r)*100))\n",
    "# print(\"R-value: {:.2f}%\".format(get_rvalue(p, r)*100))\n",
    "print(\"-\"*(79 - 4))"
   ]
  },
  {
   "cell_type": "markdown",
   "metadata": {},
   "source": [
    "## DPDP finer-grained evaluation"
   ]
  },
  {
   "cell_type": "code",
   "execution_count": 6,
   "metadata": {},
   "outputs": [],
   "source": [
    "def score_word_token_boundaries_analysis(ref, seg, word_types, tolerance=0):\n",
    "    \"\"\"\n",
    "    Calculate precision, recall, F-score for the word token boundaries.\n",
    "\n",
    "    Parameters\n",
    "    ----------\n",
    "    ref : list of vector of bool\n",
    "        The ground truth reference.\n",
    "    seg : list of vector of bool\n",
    "        The segmentation hypothesis.\n",
    "    tolerance : int\n",
    "        The number of slices with which a boundary might differ but still be\n",
    "        regarded as correct.\n",
    "\n",
    "    Return\n",
    "    ------\n",
    "    output : (float, float, float)\n",
    "        Precision, recall, F-score.\n",
    "    \"\"\"\n",
    "    # Error statistics\n",
    "    correct_gt_durations = []\n",
    "    incorrect_gt_durations = []\n",
    "#     n_missed_bound = 0\n",
    "#     n_extra_bound = 0\n",
    "    correct_tokens = []\n",
    "    \n",
    "    # Metric statistics\n",
    "    n_tokens_ref = 0\n",
    "    n_tokens_seg = 0\n",
    "    n_tokens_correct = 0\n",
    "    \n",
    "    for i_boundary, boundary_ref in enumerate(ref):\n",
    "        boundary_seg = seg[i_boundary]\n",
    "        assert boundary_ref[-1]  # check if last boundary is True\n",
    "        assert boundary_seg[-1]\n",
    "        cur_word_types = word_types[i_boundary][:]\n",
    "        \n",
    "        # If reference is longer, truncate\n",
    "        if len(boundary_ref) > len(boundary_seg):\n",
    "            boundary_ref = boundary_ref[:len(boundary_seg)]\n",
    "            boundary_ref[-1] = True\n",
    "\n",
    "        # Build list of ((word_start_lower, word_start_upper), (word_end_lower,\n",
    "        # word_end_upper))\n",
    "        word_bound_intervals = []\n",
    "        for word_start, word_end in boundaries_to_intervals(boundary_ref):\n",
    "            word_bound_intervals.append((\n",
    "                (max(0, word_start - tolerance), word_start + tolerance),\n",
    "                (word_end - tolerance, word_end + tolerance)\n",
    "                ))\n",
    "        ref_intervals = boundaries_to_intervals(boundary_ref)\n",
    "        seg_intervals = boundaries_to_intervals(boundary_seg)\n",
    "#         print(f\"{boundary_ref=}\")\n",
    "#         print(f\"{word_bound_intervals=}\")\n",
    "#         print(f\"{seg_intervals=}\")\n",
    "\n",
    "        n_tokens_ref += len(word_bound_intervals)\n",
    "        n_tokens_seg += len(seg_intervals)\n",
    "\n",
    "        # Score word token boundaries\n",
    "        for seg_start, seg_end in seg_intervals:\n",
    "            correct = False\n",
    "            # print seg_start, seg_end\n",
    "            for i_gt_word, (word_start_interval,\n",
    "                    word_end_interval) in enumerate(word_bound_intervals):\n",
    "                word_start_lower, word_start_upper = word_start_interval\n",
    "                word_end_lower, word_end_upper = word_end_interval\n",
    "\n",
    "                if (word_start_lower <= seg_start <= word_start_upper and\n",
    "                        word_end_lower <= seg_end <= word_end_upper):\n",
    "                    n_tokens_correct += 1\n",
    "                    \n",
    "#                     print(\"correct\")\n",
    "                    start, end = ref_intervals[i_gt_word]\n",
    "                    correct_gt_durations.append(end - start)\n",
    "                    correct_tokens.append(cur_word_types[i_gt_word])\n",
    "                    \n",
    "#                     print(ref_intervals[i_gt_word])\n",
    "#                     print(word_bound_intervals[i_gt_word])\n",
    "#                     print(cur_word_types[i_gt_word])\n",
    "    \n",
    "                    word_bound_intervals.pop(i_gt_word)  # can't re-use token\n",
    "                    ref_intervals.pop(i_gt_word)\n",
    "                    cur_word_types.pop(i_gt_word)\n",
    "                    correct = True\n",
    "                    break\n",
    "            if correct:\n",
    "                continue\n",
    "#             print(\"-\"*74)\n",
    "#             print(f\"incorrect: {seg_start, seg_end=}\")\n",
    "#             for i_gt_word, (word_start_interval,\n",
    "#                     word_end_interval) in enumerate(word_bound_intervals):\n",
    "#                 word_start_lower, word_start_upper = word_start_interval\n",
    "#                 word_end_lower, word_end_upper = word_end_interval\n",
    "#                 if word_start_lower <= seg_start <= word_end_lower:\n",
    "#                     print(f\"{word_start_interval=}\")\n",
    "#                     if seg_end > word_end_upper:\n",
    "#                         n_missed_bound += 1\n",
    "#                         print(\"missed\")\n",
    "#                     else:\n",
    "#                         n_extra_bound += 1\n",
    "#                         print(\"extra\")\n",
    "#                     break\n",
    "#             print(\"-\"*74)\n",
    "        \n",
    "        for interval in ref_intervals:\n",
    "            start, end = interval\n",
    "            incorrect_gt_durations.append(end - start)\n",
    "#         print(f\"{ref_intervals=}\")\n",
    "#         print(\"-\"*74)\n",
    "\n",
    "#     # Temp\n",
    "#     print(\"n_tokens_correct\", n_tokens_correct)\n",
    "#     print(\"n_tokens_seg\", n_tokens_seg)\n",
    "#     print(\"n_tokens_ref\", n_tokens_ref)\n",
    "#     print(f\"{correct_gt_durations=}\")\n",
    "#     print(f\"{incorrect_gt_durations=}\")\n",
    "\n",
    "    precision = float(n_tokens_correct)/n_tokens_seg\n",
    "    recall = float(n_tokens_correct)/n_tokens_ref\n",
    "    if precision + recall != 0:\n",
    "        f = 2*precision*recall / (precision + recall)\n",
    "    else:\n",
    "        f = -np.inf\n",
    "\n",
    "    analysis_dict = {\n",
    "        \"correct_gt_durations\": correct_gt_durations,\n",
    "        \"incorrect_gt_durations\": incorrect_gt_durations,\n",
    "        \"correct_tokens\": correct_tokens\n",
    "        }\n",
    "        \n",
    "    return precision, recall, f, analysis_dict"
   ]
  },
  {
   "cell_type": "code",
   "execution_count": 7,
   "metadata": {},
   "outputs": [
    {
     "name": "stdout",
     "output_type": "stream",
     "text": [
      "Prec: 24.40, Rec: 25.59, F1: 24.98\n"
     ]
    }
   ],
   "source": [
    "word_tolerance = 2\n",
    "p, r, f, dpdp_analysis = score_word_token_boundaries_analysis(\n",
    "    reference_list, segmentation_list, word_type_list, tolerance=word_tolerance\n",
    "    )\n",
    "print(f\"Prec: {p*100:.2f}, Rec: {r*100:.2f}, F1: {f*100:.2f}\")"
   ]
  },
  {
   "cell_type": "code",
   "execution_count": 8,
   "metadata": {},
   "outputs": [
    {
     "name": "stdout",
     "output_type": "stream",
     "text": [
      "Correct durations: 23.10 +- 11.46 frames\n",
      "Incorrect durations: 23.64 +- 16.41 frames\n"
     ]
    }
   ],
   "source": [
    "print(\n",
    "    \"Correct durations: {:.2f} +- {:.2f} frames\".format(\n",
    "        np.mean(dpdp_analysis[\"correct_gt_durations\"]),\n",
    "        np.std(dpdp_analysis[\"correct_gt_durations\"])\n",
    "        )\n",
    "    )\n",
    "print(\n",
    "    \"Incorrect durations: {:.2f} +- {:.2f} frames\".format(\n",
    "        np.mean(dpdp_analysis[\"incorrect_gt_durations\"]),\n",
    "        np.std(dpdp_analysis[\"incorrect_gt_durations\"])\n",
    "        )\n",
    "    )"
   ]
  },
  {
   "cell_type": "code",
   "execution_count": 9,
   "metadata": {},
   "outputs": [
    {
     "data": {
      "image/png": "[encoded data removed]",
      "text/plain": [
       "<Figure size 432x288 with 1 Axes>"
      ]
     },
     "metadata": {
      "needs_background": "light"
     },
     "output_type": "display_data"
    }
   ],
   "source": [
    "fig1, ax1 = plt.subplots()\n",
    "data = [\n",
    "    dpdp_analysis[\"correct_gt_durations\"],\n",
    "    dpdp_analysis[\"incorrect_gt_durations\"],\n",
    "    ]\n",
    "ax1.boxplot(data);"
   ]
  },
  {
   "cell_type": "code",
   "execution_count": 10,
   "metadata": {},
   "outputs": [],
   "source": [
    "# Word type analysis\n",
    "word_tokens_ref = [i for sublist in word_type_list for i in sublist]\n",
    "word_tokens_seg = dpdp_analysis[\"correct_tokens\"]\n",
    "word_tokens_ref_counter = Counter(word_tokens_ref)\n",
    "word_tokens_seg_counter = Counter(word_tokens_seg)"
   ]
  },
  {
   "cell_type": "code",
   "execution_count": 11,
   "metadata": {},
   "outputs": [],
   "source": [
    "normalized_seg_counts = Counter()\n",
    "for word_type in word_tokens_seg_counter:   \n",
    "#     if word_type == \"okay\":\n",
    "#         print(normalized_seg_counts[word_type])\n",
    "#         print()\n",
    "    if word_tokens_ref_counter[word_type] > 10:\n",
    "        normalized_seg_counts[word_type] = (\n",
    "            word_tokens_seg_counter[word_type] /\n",
    "            word_tokens_ref_counter[word_type]\n",
    "            )"
   ]
  },
  {
   "cell_type": "code",
   "execution_count": 18,
   "metadata": {},
   "outputs": [
    {
     "data": {
      "image/png": "[encoded data removed]",
      "text/plain": [
       "<Figure size 360x216 with 1 Axes>"
      ]
     },
     "metadata": {
      "needs_background": "light"
     },
     "output_type": "display_data"
    }
   ],
   "source": [
    "n = 15\n",
    "most_common_seg = normalized_seg_counts.most_common(n)\n",
    "plt.bar(\n",
    "    np.arange(n),\n",
    "#     [i[0] for i in most_common_seg],\n",
    "    [i[1] for i in most_common_seg]\n",
    "    )\n",
    "plt.xticks(\n",
    "    np.arange(n),\n",
    "    [i[0] for i in most_common_seg],\n",
    "    rotation=\"vertical\"\n",
    "    )\n",
    "plt.ylim([0.525, 0.875])\n",
    "plt.show()"
   ]
  },
  {
   "cell_type": "code",
   "execution_count": 13,
   "metadata": {},
   "outputs": [
    {
     "data": {
      "image/png": "[encoded data removed]",
      "text/plain": [
       "<Figure size 360x216 with 1 Axes>"
      ]
     },
     "metadata": {
      "needs_background": "light"
     },
     "output_type": "display_data"
    }
   ],
   "source": [
    "setup_plot()\n",
    "plt.rcParams[\"figure.figsize\"]          = 5, 3\n",
    "plt.rcParams[\"font.sans-serif\"]         = \"Times\"\n",
    "plt.rcParams[\"figure.subplot.bottom\"]   = 0.16\n",
    "plt.rcParams[\"figure.subplot.left\"]     = 0.11\n",
    "plt.rcParams[\"figure.subplot.right\"]    = 0.99\n",
    "plt.rcParams[\"figure.subplot.top\"]      = 0.99\n",
    "\n",
    "n = 15\n",
    "most_common_seg = normalized_seg_counts.most_common(n)\n",
    "plt.bar(\n",
    "    np.arange(n),\n",
    "#     [i[0] for i in most_common_seg],\n",
    "    [i[1]*100 for i in most_common_seg]\n",
    "    )\n",
    "plt.xticks(\n",
    "    np.arange(n),\n",
    "    [i[0] for i in most_common_seg],\n",
    "    rotation=\"vertical\"\n",
    "    )\n",
    "plt.ylim([52.5, 87.5])\n",
    "plt.xlim([-0.7, n - 0.3])\n",
    "plt.ylabel(\"Token recall per word type (\\%)\")\n",
    "plt.savefig(\"per_word_recall_top.pdf\")\n",
    "plt.show()"
   ]
  },
  {
   "cell_type": "code",
   "execution_count": 39,
   "metadata": {},
   "outputs": [
    {
     "data": {
      "image/png": "[encoded data removed]",
      "text/plain": [
       "<Figure size 360x216 with 1 Axes>"
      ]
     },
     "metadata": {
      "needs_background": "light"
     },
     "output_type": "display_data"
    }
   ],
   "source": [
    "n = 15\n",
    "# least_common_seg = normalized_seg_counts.most_common()[-n:]\n",
    "least_common_seg = [i for i in normalized_seg_counts.most_common() if word_tokens_ref_counter[i[0]] > 27][-n:]\n",
    "plt.bar(\n",
    "    np.arange(n),\n",
    "#     [i[0] for i in most_common_seg],\n",
    "    [i[1] for i in least_common_seg]\n",
    "    )\n",
    "plt.xticks(\n",
    "    np.arange(n),\n",
    "    [i[0] for i in least_common_seg],\n",
    "    rotation=\"vertical\"\n",
    "    )\n",
    "# plt.ylim([0.0, 0.05])\n",
    "plt.show()"
   ]
  },
  {
   "cell_type": "code",
   "execution_count": 92,
   "metadata": {},
   "outputs": [
    {
     "data": {
      "image/png": "[encoded data removed]",
      "text/plain": [
       "<Figure size 432x432 with 2 Axes>"
      ]
     },
     "metadata": {
      "needs_background": "light"
     },
     "output_type": "display_data"
    }
   ],
   "source": [
    "setup_plot()\n",
    "plt.rcParams[\"figure.figsize\"]          = 6, 6\n",
    "plt.rcParams[\"font.sans-serif\"]         = \"Times\"\n",
    "# plt.rcParams[\"axes.titlesize\"]          = \"large\"\n",
    "# plt.rcParams[\"figure.subplot.bottom\"]   = 0.16\n",
    "# plt.rcParams[\"figure.subplot.left\"]     = 0.11\n",
    "# plt.rcParams[\"figure.subplot.right\"]    = 0.99\n",
    "# plt.rcParams[\"figure.subplot.top\"]      = 0.99\n",
    "\n",
    "n = 15\n",
    "most_common_seg = normalized_seg_counts.most_common(n)\n",
    "least_common_seg = [i for i in normalized_seg_counts.most_common() if word_tokens_ref_counter[i[0]] > 27][-n:]\n",
    "\n",
    "fig = plt.figure()\n",
    "plt.subplot(2, 1, 1)\n",
    "plt.title(\"Word types with highest recall\")\n",
    "plt.bar(\n",
    "    np.arange(n),\n",
    "#     [i[0] for i in most_common_seg],\n",
    "    [i[1]*100 for i in most_common_seg]\n",
    "    )\n",
    "plt.xticks(\n",
    "    np.arange(n),\n",
    "    [i[0] for i in most_common_seg],\n",
    "    rotation=\"vertical\"\n",
    "    )\n",
    "plt.ylim([50, 87.5])\n",
    "plt.xlim([-0.7, n - 0.3])\n",
    "# plt.ylabel(\"Token recall per word type (\\%)\")\n",
    "plt.ylabel(\"Token recall (\\%)\")\n",
    "# plt.savefig(\"per_word_recall_top.pdf\")\n",
    "\n",
    "plt.subplot(2, 1, 2)\n",
    "plt.title(\"Word types with lowest recall\")\n",
    "plt.bar(\n",
    "    np.arange(n),\n",
    "#     [i[0] for i in most_common_seg],\n",
    "    [i[1]*100 for i in least_common_seg]\n",
    "    )\n",
    "plt.xticks(\n",
    "    np.arange(n),\n",
    "    [i[0] for i in least_common_seg],\n",
    "    rotation=\"vertical\"\n",
    "    )\n",
    "plt.xlim([-0.7, n - 0.3])\n",
    "plt.ylim([0, 9])\n",
    "plt.ylabel(\"Token recall (\\%)\")\n",
    "# plt.ylabel(\"Token recall per word type (\\%)\")\n",
    "\n",
    "fig.tight_layout(pad=1.0)\n",
    "\n",
    "plt.savefig(\"per_word_recall_top_bottom.pdf\")\n",
    "\n",
    "plt.show()"
   ]
  },
  {
   "cell_type": "markdown",
   "metadata": {},
   "source": [
    "## ES-KMeans data"
   ]
  },
  {
   "cell_type": "markdown",
   "metadata": {},
   "source": [
    "ES-KMeans output obtained from: \n",
    "\n",
    "    /media/kamperh/endgame/projects/stellenbosch/bucktsong_eskmeans/segmentation/kmodels/zs/mfcc.n_10.unsup_syl/sd_8acab507e2/models.txt`"
   ]
  },
  {
   "cell_type": "code",
   "execution_count": 14,
   "metadata": {},
   "outputs": [],
   "source": [
    "# Dataset and model\n",
    "dataset = \"buckeye\"\n",
    "split = \"test\"\n",
    "# model = \"cpc_big\"\n",
    "# seg_tag = \"wordseg_dpdp_aernn_dp_penalized\"\n",
    "model = \"eskmeans\"\n",
    "seg_tag = \"eskmeans\"\n",
    "\n",
    "# Directories\n",
    "seg_dir = Path(\"../exp\")/model/dataset/split/seg_tag/\"intervals\"\n",
    "# phone_ref_dir = Path(\"../data\")/dataset/\"phone_intervals\"\n",
    "word_ref_dir = Path(\"../data\")/dataset/\"word_intervals\""
   ]
  },
  {
   "cell_type": "code",
   "execution_count": 15,
   "metadata": {},
   "outputs": [
    {
     "name": "stderr",
     "output_type": "stream",
     "text": [
      " 19%|█▉        | 4116/21498 [00:00<00:00, 41153.76it/s]"
     ]
    },
    {
     "name": "stdout",
     "output_type": "stream",
     "text": [
      "Reading: ../exp/eskmeans/buckeye/test/eskmeans/intervals\n"
     ]
    },
    {
     "name": "stderr",
     "output_type": "stream",
     "text": [
      "100%|██████████| 21498/21498 [00:00<00:00, 36251.88it/s]\n",
      "  0%|          | 0/21498 [00:00<?, ?it/s]"
     ]
    },
    {
     "name": "stdout",
     "output_type": "stream",
     "text": [
      "Reading: ../data/buckeye/word_intervals\n"
     ]
    },
    {
     "name": "stderr",
     "output_type": "stream",
     "text": [
      "100%|██████████| 21498/21498 [00:00<00:00, 35266.43it/s]\n"
     ]
    }
   ],
   "source": [
    "# Read segmentation\n",
    "segmentation_interval_dict = {}\n",
    "print(\"Reading: {}\".format(seg_dir))\n",
    "assert seg_dir.is_dir(), \"missing directory: {}\".format(seg_dir)\n",
    "segmentation_interval_dict = get_intervals_from_dir(seg_dir)\n",
    "utterances = segmentation_interval_dict.keys()\n",
    "\n",
    "# Read word reference\n",
    "if word_ref_dir.is_dir():\n",
    "    print(\"Reading: {}\".format(word_ref_dir))\n",
    "    word_ref_interval_dict = get_intervals_from_dir(\n",
    "        word_ref_dir, utterances\n",
    "        )"
   ]
  },
  {
   "cell_type": "code",
   "execution_count": 16,
   "metadata": {},
   "outputs": [
    {
     "name": "stderr",
     "output_type": "stream",
     "text": [
      "100%|██████████| 21498/21498 [00:00<00:00, 344129.47it/s]\n",
      "100%|██████████| 21498/21498 [00:00<00:00, 326960.43it/s]"
     ]
    },
    {
     "name": "stdout",
     "output_type": "stream",
     "text": [
      "Converting intervals to boundaries:\n"
     ]
    },
    {
     "name": "stderr",
     "output_type": "stream",
     "text": [
      "\n"
     ]
    }
   ],
   "source": [
    "# Convert intervals to boundaries\n",
    "print(\"Converting intervals to boundaries:\")\n",
    "segmentation_boundaries_dict = {}\n",
    "for utt_key in tqdm(segmentation_interval_dict):\n",
    "    segmentation_boundaries_dict[utt_key] = intervals_to_boundaries(\n",
    "        segmentation_interval_dict[utt_key]\n",
    "        )\n",
    "if word_ref_dir.is_dir():\n",
    "    word_ref_boundaries_dict = {}\n",
    "    for utt_key in tqdm(word_ref_interval_dict):\n",
    "        word_ref_boundaries_dict[utt_key] = intervals_to_boundaries(\n",
    "            word_ref_interval_dict[utt_key]\n",
    "            )\n",
    "\n",
    "# Map e.g. \"23_12_\" to a unique integer ID e.g. 10\n",
    "# if (\"word\" in seg_tag and \"_\" in\n",
    "#         list(segmentation_interval_dict.values())[0][0][-1]):\n",
    "segmentation_interval_dict, str_to_id, id_to_str = str_to_id_labels(\n",
    "    segmentation_interval_dict\n",
    "    )"
   ]
  },
  {
   "cell_type": "markdown",
   "metadata": {},
   "source": [
    "## ES-KMeans finer-grained evaluation"
   ]
  },
  {
   "cell_type": "code",
   "execution_count": 17,
   "metadata": {},
   "outputs": [
    {
     "name": "stdout",
     "output_type": "stream",
     "text": [
      "Prec: 21.70, Rec: 15.18, F1: 17.86\n"
     ]
    }
   ],
   "source": [
    "reference_list = []\n",
    "segmentation_list = []\n",
    "word_type_list = []\n",
    "for utterance in sorted(word_ref_boundaries_dict):\n",
    "    reference_list.append(word_ref_boundaries_dict[utterance])\n",
    "    segmentation_list.append(segmentation_boundaries_dict[utterance])\n",
    "    word_type_list.append([i[2] for i in word_ref_interval_dict[utterance]])\n",
    "\n",
    "word_tolerance = 2\n",
    "p, r, f, eskmeans_analysis = score_word_token_boundaries_analysis(\n",
    "    reference_list, segmentation_list, word_type_list, tolerance=word_tolerance\n",
    "    )\n",
    "print(f\"Prec: {p*100:.2f}, Rec: {r*100:.2f}, F1: {f*100:.2f}\")"
   ]
  },
  {
   "cell_type": "code",
   "execution_count": 18,
   "metadata": {},
   "outputs": [
    {
     "name": "stdout",
     "output_type": "stream",
     "text": [
      "Correct durations: 28.61 +- 12.43 frames\n",
      "Incorrect durations: 22.71 +- 15.66 frames\n"
     ]
    }
   ],
   "source": [
    "print(\n",
    "    \"Correct durations: {:.2f} +- {:.2f} frames\".format(\n",
    "        np.mean(eskmeans_analysis[\"correct_gt_durations\"]),\n",
    "        np.std(eskmeans_analysis[\"correct_gt_durations\"])\n",
    "        )\n",
    "    )\n",
    "print(\n",
    "    \"Incorrect durations: {:.2f} +- {:.2f} frames\".format(\n",
    "        np.mean(eskmeans_analysis[\"incorrect_gt_durations\"]),\n",
    "        np.std(eskmeans_analysis[\"incorrect_gt_durations\"])\n",
    "        )\n",
    "    )"
   ]
  },
  {
   "cell_type": "code",
   "execution_count": 19,
   "metadata": {},
   "outputs": [
    {
     "data": {
      "image/png": "[encoded data removed]",
      "text/plain": [
       "<Figure size 360x216 with 1 Axes>"
      ]
     },
     "metadata": {
      "needs_background": "light"
     },
     "output_type": "display_data"
    }
   ],
   "source": [
    "fig1, ax1 = plt.subplots()\n",
    "data = [\n",
    "    dpdp_analysis[\"correct_gt_durations\"],\n",
    "    eskmeans_analysis[\"correct_gt_durations\"],\n",
    "#     dpdp_analysis[\"incorrect_gt_durations\"],\n",
    "#     eskmeans_analysis[\"incorrect_gt_durations\"],\n",
    "    ]\n",
    "ax1.boxplot(data, showfliers=False);\n",
    "# ax1.set_ylim([0, 70])"
   ]
  },
  {
   "cell_type": "code",
   "execution_count": 36,
   "metadata": {},
   "outputs": [
    {
     "data": {
      "image/png": "[encoded data removed]",
      "text/plain": [
       "<Figure size 360x216 with 1 Axes>"
      ]
     },
     "metadata": {
      "needs_background": "light"
     },
     "output_type": "display_data"
    }
   ],
   "source": [
    "setup_plot()\n",
    "plt.rcParams[\"figure.figsize\"]          = 5, 3\n",
    "plt.rcParams[\"font.sans-serif\"]         = \"Times\"\n",
    "plt.rcParams[\"figure.subplot.bottom\"]   = 0.1\n",
    "plt.rcParams[\"figure.subplot.left\"]     = 0.12\n",
    "plt.rcParams[\"figure.subplot.right\"]    = 0.99\n",
    "plt.rcParams[\"figure.subplot.top\"]      = 0.99\n",
    "\n",
    "fig1, ax1 = plt.subplots()\n",
    "data = [\n",
    "    np.array(dpdp_analysis[\"correct_gt_durations\"])/100,\n",
    "    np.array(eskmeans_analysis[\"correct_gt_durations\"])/100,\n",
    "#     dpdp_analysis[\"incorrect_gt_durations\"],\n",
    "#     eskmeans_analysis[\"incorrect_gt_durations\"],\n",
    "    ]\n",
    "ax1.boxplot(data, showfliers=False);\n",
    "# ax1.set_ylim([0, 70])\n",
    "# fig1.xticks([1, 2], )\n",
    "plt.setp(ax1, xticklabels=[\"DPDP\", \"ES-KMeans\"])\n",
    "# plt.setp([\"DPDP\", \"ES-KMeans\"], rotation=45, fontsize=8)\n",
    "plt.ylabel(\"Duration (sec)\")\n",
    "plt.ylim([0, 0.65])\n",
    "\n",
    "plt.savefig(\"dpdp_eskmeans_correct_durations.pdf\")"
   ]
  },
  {
   "cell_type": "code",
   "execution_count": null,
   "metadata": {},
   "outputs": [],
   "source": []
  }
 ],
 "metadata": {
  "kernelspec": {
   "display_name": "Python 3 (ipykernel)",
   "language": "python",
   "name": "python3"
  },
  "language_info": {
   "codemirror_mode": {
    "name": "ipython",
    "version": 3
   },
   "file_extension": ".py",
   "mimetype": "text/x-python",
   "name": "python",
   "nbconvert_exporter": "python",
   "pygments_lexer": "ipython3",
   "version": "3.9.16"
  }
 },
 "nbformat": 4,
 "nbformat_minor": 4
}
